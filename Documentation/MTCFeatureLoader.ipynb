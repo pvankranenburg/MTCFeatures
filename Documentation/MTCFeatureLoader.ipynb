{
 "cells": [
  {
   "cell_type": "markdown",
   "metadata": {},
   "source": [
    "# FeatureLoader for Meertens Tune Collections"
   ]
  },
  {
   "cell_type": "markdown",
   "metadata": {},
   "source": [
    "The [Meertens Tune Collections](http://www.liederenbank.nl/mtc/) provide various data sets with melodic data. The melodies are provided in Humdrum **kern encoding and as MIDI sequences. In many cases, a representation of the melodies as sequences of feature values is needed. `MTCFeatureLoader` is a Python module that provides such feature sequences together with functionality for feature and object filtering and feature extraction"
   ]
  },
  {
   "cell_type": "code",
   "execution_count": null,
   "metadata": {},
   "outputs": [],
   "source": [
    "from MTCFeatures.MTCFeatureLoader import MTCFeatureLoader"
   ]
  },
  {
   "cell_type": "markdown",
   "metadata": {},
   "source": [
    "A `MTCFeatureLoader` object takes as source a `.jsonl` file (optionally gzipped), which is a text file with on each line a json object representing a melody. A melody object contains `metadata` fields and several sequences of feature values. E.g.\n",
    "```\n",
    "{'id': 'NLB178968_01',\n",
    " 'type': 'vocal',\n",
    " 'year': 1866,\n",
    " 'freemeter': false,\n",
    " 'tunefamily': '1302_0',\n",
    " 'tunefamily_full': 'Contre les chagrins de la vie',\n",
    " 'ann_bgcorpus': True,\n",
    " 'features': {'pitch40': [135, 141, 147, 152, 158,    [...] 158, 135],\n",
    "              'scaledegree': [1, 2, 3, 4, 5, 1, 6,    [...] 2, 5, 1],\n",
    "              'scaledegreespecifier': ['P', 'M', 'M', [...] 'M', 'P', 'P'],\n",
    "              \n",
    "              [...]\n",
    "              \n",
    "              'phrasepos': [0.0, 0.071429, 0.142857,  [...] 0.833333, 1.0],\n",
    "              'songpos': [0.0, 0.007142857142857143,  [...] 1.0]}\n",
    "}\n",
    "```\n",
    "In this example the metadata fields are `id`, `type`, `year`, `tunefamily`, `tunefamily_full`, `freemeter`, and `ann_bgcorpus`. The named object `features` contains several sequences of feature values."
   ]
  },
  {
   "cell_type": "markdown",
   "metadata": {},
   "source": [
    "Several `.jsonl` files are provided with the module:\n",
    "* `MTC-ANN-2.0.1`\n",
    "* `MTC-FS-INST-2.0`\n",
    "\n",
    "The `MTCFeatureLoader` can be initialized either with one of these, or with a user provided `.jsonl` or `.jsonl.gz` file:\n",
    "* `fl = MTCFeatureLoader('MTC-ANN-2.0.1')`\n",
    "* `fl = MTCFeatureLoader('MTC-FS-INST-2.0')`\n",
    "* `fl = MTCFeatureLoader('../path/to/my/file.jsonl.gz')`\n",
    "* `fl = MTCFeatureLoader('/path/to/my/file.jsonl')`"
   ]
  },
  {
   "cell_type": "markdown",
   "metadata": {},
   "source": [
    "The `MTCFeatureLoader` class provides various functionalities:\n",
    "* Melody Filtering : select melodies according to given criteria\n",
    "* Feature selection : keep subset of features\n",
    "* Feature extraction : compute a new feature from existing features and add it to the object\n",
    "* Split data in train/test sets while respecting groupings"
   ]
  },
  {
   "cell_type": "markdown",
   "metadata": {},
   "source": [
    "Operations can be chained. All feature extractors, feature selectors and object filters return an interator over the sequences. Each has an argument `seq_iter`. If `seq_iter==None` (default) the `.jsonl` file is taken as data source and a new iterator is created. Otherwise the provided iterator is taken as data source. Also, a method is available which takes a list of filter names and applies those.\n",
    "\n",
    "The method `MTCFeatureLoader.writeJSON(self, json_out_path, seq_iter=None)` can be used to write the filtered set `seq_iter` to a `.jsonl` or `.jsonl.gz` file. If the final extension of the filename  `json_out_path` is `.gz` a gzipped file will be written."
   ]
  },
  {
   "cell_type": "markdown",
   "metadata": {},
   "source": [
    "## Melody Filters"
   ]
  },
  {
   "cell_type": "markdown",
   "metadata": {},
   "source": [
    "### Available filters"
   ]
  },
  {
   "cell_type": "markdown",
   "metadata": {},
   "source": [
    "The following filters are registered in class `MTCFeatureLoader`\n",
    "\n",
    "* `vocal` : Only keep vocal melodies\n",
    "* `instrumental` : Only keep instrumental melodies\n",
    "* `firstvoice` : Only keep first voices/stanzas (i.e. identifier ending with `_01`)\n",
    "* `ann_bgcorpus` : Only keep melodies unrelated to MTC-ANN (only applicable to MTC-FS-INST)\n",
    "* `labeled` : Only keep melodies with a tune family label\n",
    "* `unlabeled`: Only keep melodies without a tune family label\n",
    "* `afteryear(year)` : Only keep melodies in sources dated later than `year` (`year` not included)\n",
    "* `beforeyear(year)` : Only keep melodies in sources dated before `year` (`year` not included)\n",
    "* `betweenyears(year1, year2)` : Only keep melodies in sources dated between `year1` and `year2` (both not included)\n",
    "* `inOGL` : Only keep melodies that are part of Onder de Groene Linde\n",
    "* `inNLBIDs(id_list)` : Only keep melodies with given identifiers in `id_list`\n",
    "* `inTuneFamilies(tf_list)` : Only keep melodies in given tune families in `tf_list`\n",
    "* `inInstTest` : Only keep melodies that are in cINST.\n",
    "\n",
    "Available as separate functions:\n",
    "\n",
    "* `DataLoader.minClassSizeFilter(self, classfeature, mininum=0, seq_iter=None)` : Keeps only melodies in classes with >= `minimum` members.<br>\n",
    "`classfeature` (string) : name of the feature to use for counting.\n",
    "* `DataLoader.maxClassSizeFilter(self, classfeature, maximum=100, seq_iter=None)` : Keeps only melodies in classes with <= `maximum` members.<br>\n",
    "`classfeature` (string) : name of the feature to use for counting."
   ]
  },
  {
   "cell_type": "markdown",
   "metadata": {},
   "source": [
    "### How to: apply filter"
   ]
  },
  {
   "cell_type": "code",
   "execution_count": null,
   "metadata": {},
   "outputs": [],
   "source": [
    "fl = MTCFeatureLoader('MTC-FS-INST-2.0')\n",
    "seq_iter = fl.applyFilter('vocal')"
   ]
  },
  {
   "cell_type": "code",
   "execution_count": null,
   "metadata": {},
   "outputs": [],
   "source": [
    "len(list(seq_iter))"
   ]
  },
  {
   "cell_type": "markdown",
   "metadata": {},
   "source": [
    "If a filter has arguments, these sould be provided with the filtername as tuple."
   ]
  },
  {
   "cell_type": "code",
   "execution_count": null,
   "metadata": {},
   "outputs": [],
   "source": [
    "seq_iter = fl.applyFilter( ('afteryear', 1950) )\n",
    "seq_iter = fl.applyFilter( ('betweenyears', 1850, 1900) )"
   ]
  },
  {
   "cell_type": "markdown",
   "metadata": {},
   "source": [
    "Keep only songs in tune families with more than 10 members:"
   ]
  },
  {
   "cell_type": "code",
   "execution_count": null,
   "metadata": {},
   "outputs": [],
   "source": [
    "seq_iter = fl.minClassSizeFilter('tunefamily', 10)"
   ]
  },
  {
   "cell_type": "markdown",
   "metadata": {},
   "source": [
    "A filter can be inverted by setting argument `invert` to `True`"
   ]
  },
  {
   "cell_type": "code",
   "execution_count": null,
   "metadata": {},
   "outputs": [],
   "source": [
    "seq_iter = fl.applyFilter( ('afteryear', 1950), invert=True )"
   ]
  },
  {
   "cell_type": "markdown",
   "metadata": {},
   "source": [
    "A chain of filters can be applied with the `applyFilters` method. The filters will be applied in the order provided."
   ]
  },
  {
   "cell_type": "code",
   "execution_count": null,
   "metadata": {},
   "outputs": [],
   "source": [
    "seq_iter = fl.applyFilters(\n",
    "    [\n",
    "        {'mfilter':'vocal'},\n",
    "        {'mfilter':'freemeter', 'invert':True},\n",
    "        {'mfilter':('afteryear',1850)}\n",
    "    ]\n",
    ")"
   ]
  },
  {
   "cell_type": "markdown",
   "metadata": {},
   "source": [
    "### How to: register a filter"
   ]
  },
  {
   "cell_type": "markdown",
   "metadata": {},
   "source": [
    "Use method `MTCFeatureLoader.registerMelodyFilter(self, name, mfilter)`\n",
    "<br>\n",
    "`mfilter` : function returning `True` if the melody should be kept."
   ]
  },
  {
   "cell_type": "code",
   "execution_count": null,
   "metadata": {},
   "outputs": [],
   "source": [
    "fl.registerFilter('vocal', lambda x: x['type'] == 'vocal')"
   ]
  },
  {
   "cell_type": "markdown",
   "metadata": {},
   "source": [
    "Register a filter with arguments:"
   ]
  },
  {
   "cell_type": "code",
   "execution_count": null,
   "metadata": {},
   "outputs": [],
   "source": [
    "fl.registerFilter('afteryear', lambda y: lambda x: x['year'] > y )"
   ]
  },
  {
   "cell_type": "markdown",
   "metadata": {},
   "source": [
    "## Feature Extractors"
   ]
  },
  {
   "cell_type": "markdown",
   "metadata": {},
   "source": [
    "### Available Feature Extractors"
   ]
  },
  {
   "cell_type": "markdown",
   "metadata": {},
   "source": [
    "In class `MTCFeatureLoader`:\n",
    "* `full_beat` : concat `beat` and `beat_fraction`"
   ]
  },
  {
   "cell_type": "markdown",
   "metadata": {},
   "source": [
    "The following Feature Extractor is available as separate function:\n",
    "<br>\n",
    "`MTCFeatureLoader.concatAllFeatures(self, name='concat', seq_iter=None)`<br>\n",
    "`name` : name of the new feature<br>"
   ]
  },
  {
   "cell_type": "markdown",
   "metadata": {},
   "source": [
    "### How to: apply a Feature Extractor"
   ]
  },
  {
   "cell_type": "markdown",
   "metadata": {},
   "source": [
    "Use method `MTCFeatureLoader.applyFeatureExtractor(self, name, seq_iter=None)`\n",
    "<br>\n",
    "`name` : name (string) of the extractor "
   ]
  },
  {
   "cell_type": "code",
   "execution_count": null,
   "metadata": {},
   "outputs": [],
   "source": [
    "seq_iter = fl.applyFeatureExtractor('full_beat_str')"
   ]
  },
  {
   "cell_type": "markdown",
   "metadata": {},
   "source": [
    "## Feature Selector"
   ]
  },
  {
   "cell_type": "markdown",
   "metadata": {},
   "source": [
    "E.g. only retain features `midipitch` and `IOR`:"
   ]
  },
  {
   "cell_type": "code",
   "execution_count": null,
   "metadata": {},
   "outputs": [],
   "source": [
    "seq_iter = fl.selectFeatures(['midipitch', 'IOR'])"
   ]
  },
  {
   "cell_type": "markdown",
   "metadata": {},
   "source": [
    "# Example Configurations"
   ]
  },
  {
   "cell_type": "markdown",
   "metadata": {},
   "source": [
    "### pitch"
   ]
  },
  {
   "cell_type": "markdown",
   "metadata": {},
   "source": [
    "objects: all songs in MTC-ANN-2.0.1.\n",
    "<br>\n",
    "features: midipitch"
   ]
  },
  {
   "cell_type": "code",
   "execution_count": null,
   "metadata": {},
   "outputs": [],
   "source": [
    "fl = MTCFeatureLoader('MTC-ANN-2.0.1')\n",
    "seq_iter=fl.selectFeatures(['midipitch'])"
   ]
  },
  {
   "cell_type": "markdown",
   "metadata": {},
   "source": [
    "### pitch and duration"
   ]
  },
  {
   "cell_type": "markdown",
   "metadata": {},
   "source": [
    "objects: all songs in MTC-ANN-2.0.1.\n",
    "<br>\n",
    "features: midipitch and duration"
   ]
  },
  {
   "cell_type": "code",
   "execution_count": null,
   "metadata": {},
   "outputs": [],
   "source": [
    "fl = MTCFeatureLoader('MTC-ANN-2.0.1')\n",
    "seq_iter=fl.selectFeatures(['midipitch', 'duration'])"
   ]
  },
  {
   "cell_type": "markdown",
   "metadata": {},
   "source": [
    "### intervals and inter onset interval ratios"
   ]
  },
  {
   "cell_type": "markdown",
   "metadata": {},
   "source": [
    "objects: all songs in MTC-ANN-2.0.1.<br>\n",
    "features: chromaticinterval and IOR"
   ]
  },
  {
   "cell_type": "code",
   "execution_count": null,
   "metadata": {},
   "outputs": [],
   "source": [
    "fl = MTCFeatureLoader('MTC-ANN-2.0.1')\n",
    "seq_iter=fl.selectFeatures(['chromaticinterval', 'IOR'])"
   ]
  },
  {
   "cell_type": "markdown",
   "metadata": {},
   "source": [
    "### scale degree, metric contour and beat position"
   ]
  },
  {
   "cell_type": "markdown",
   "metadata": {},
   "source": [
    "objects: all songs in MTC-ANN\n",
    "<br>\n",
    "features: scale degree, metric contour and beat position"
   ]
  },
  {
   "cell_type": "code",
   "execution_count": null,
   "metadata": {},
   "outputs": [],
   "source": [
    "fl = MTCFeatureLoader('MTC-ANN-2.0.1')\n",
    "seq_iter = fl.selectFeatures(['scaledegree','metriccontour','full_beat_str'])\n",
    "seq_iter = fl.applyFeatureExtractor('full_beat_str', seq_iter=seq_iter)"
   ]
  },
  {
   "cell_type": "markdown",
   "metadata": {},
   "source": [
    "### Get backgroundcorpus for MTC-ANN from MTC-FS-INST"
   ]
  },
  {
   "cell_type": "code",
   "execution_count": null,
   "metadata": {},
   "outputs": [],
   "source": [
    "fl = MTCFeatureLoader('MTC-FS-INST-2.0')\n",
    "seq_iter = fl.applyFilter('ann_bgcorpus')"
   ]
  },
  {
   "cell_type": "markdown",
   "metadata": {},
   "source": [
    "### Get labeled songs in *Onder de groene linde*"
   ]
  },
  {
   "cell_type": "code",
   "execution_count": null,
   "metadata": {},
   "outputs": [],
   "source": [
    "fl = MTCFeatureLoader('MTC-FS-INST-2.0')\n",
    "seq_iter = fl.applyFilters(\n",
    "    [\n",
    "        {'mfilter':'inOGL'},\n",
    "        {'mfilter':'labeled'}\n",
    "    ]\n",
    ")"
   ]
  },
  {
   "cell_type": "markdown",
   "metadata": {},
   "source": [
    "Keep only those in tune families with more than 2 melodies:"
   ]
  },
  {
   "cell_type": "code",
   "execution_count": null,
   "metadata": {},
   "outputs": [],
   "source": [
    "seq_iter = fl.minClassSizeFilter('tunefamily', 2, seq_iter=seq_iter)"
   ]
  },
  {
   "cell_type": "markdown",
   "metadata": {},
   "source": [
    "### Use labeled 17th and 18th century fiddle music only"
   ]
  },
  {
   "cell_type": "code",
   "execution_count": null,
   "metadata": {},
   "outputs": [],
   "source": [
    "fl = MTCFeatureLoader('MTC-FS-INST-2.0')\n",
    "\n",
    "sel_instr = fl.applyFilter('instrumental')\n",
    "sel_17th18th_c = fl.applyFilter( ('betweenyears', 1600, 1800), seq_iter=sel_instr )\n",
    "sel_labeled = fl.applyFilter('labeled', seq_iter=sel_17th18th_c)"
   ]
  },
  {
   "cell_type": "markdown",
   "metadata": {},
   "source": [
    "or:"
   ]
  },
  {
   "cell_type": "code",
   "execution_count": null,
   "metadata": {},
   "outputs": [],
   "source": [
    "seq_iter = fl.applyFilters(\n",
    "    [\n",
    "        {'mfilter':'instrumental'},\n",
    "        {'mfilter':'labeled'},\n",
    "        {'mfilter':('betweenyears', 1600, 1800)}\n",
    "    ]\n",
    ")"
   ]
  },
  {
   "cell_type": "markdown",
   "metadata": {},
   "source": [
    "### Use big tune families (>=20 melodies)"
   ]
  },
  {
   "cell_type": "code",
   "execution_count": null,
   "metadata": {},
   "outputs": [],
   "source": [
    "fl = MTCFeatureLoader('MTC-FS-INST-2.0')\n",
    "sel_big = fl.minClassSizeFilter('tunefamily', 20)"
   ]
  },
  {
   "cell_type": "markdown",
   "metadata": {},
   "source": [
    "### Use small tune families (<=5 melodies) only"
   ]
  },
  {
   "cell_type": "code",
   "execution_count": null,
   "metadata": {},
   "outputs": [],
   "source": [
    "fl = MTCFeatureLoader('MTC-FS-INST-2.0')\n",
    "sel_small = fl.maxClassSizeFilter('tunefamily', 5)"
   ]
  },
  {
   "cell_type": "markdown",
   "metadata": {},
   "source": [
    "### Use only melodies with given identifiers"
   ]
  },
  {
   "cell_type": "code",
   "execution_count": null,
   "metadata": {},
   "outputs": [],
   "source": [
    "fl = MTCFeatureLoader('MTC-FS-INST-2.0')\n",
    "id_list = ['NLB125814_01','NLB125815_01','NLB125817_01','NLB125818_01','NLB125822_01','NLB125823_01']\n",
    "sel_list = fl.applyFilter( ('inNLBIDs', id_list) )"
   ]
  },
  {
   "cell_type": "markdown",
   "metadata": {},
   "source": [
    "### Use only instrumental melodies from tune family 2805_0"
   ]
  },
  {
   "cell_type": "code",
   "execution_count": null,
   "metadata": {},
   "outputs": [],
   "source": [
    "fl = MTCFeatureLoader('MTC-FS-INST-2.0')\n",
    "tf_list = ['2805_0']\n",
    "sel_list = fl.applyFilter( ('inTuneFamilies', tf_list), seq_iter=fl.applyFilter('instrumental'))"
   ]
  },
  {
   "cell_type": "markdown",
   "metadata": {},
   "source": [
    "Write the result to a gzipped `.jsonl` file."
   ]
  },
  {
   "cell_type": "code",
   "execution_count": null,
   "metadata": {},
   "outputs": [],
   "source": [
    "fl.writeJSON('2805_0.jsonl.gz', seq_iter=sel_list)"
   ]
  },
  {
   "cell_type": "markdown",
   "metadata": {},
   "source": [
    "### Get vocal melodies that have a meter"
   ]
  },
  {
   "cell_type": "code",
   "execution_count": null,
   "metadata": {},
   "outputs": [],
   "source": [
    "fl = MTCFeatureLoader('MTC-FS-INST-2.0')\n",
    "seq_iter = fl.applyFilters(\n",
    "    [\n",
    "        {'mfilter':'vocal'},\n",
    "        {'mfilter':'freemeter', 'invert':True}\n",
    "    ]\n",
    ")"
   ]
  }
 ],
 "metadata": {
  "kernelspec": {
   "display_name": "Python 3",
   "language": "python",
   "name": "python3"
  },
  "language_info": {
   "codemirror_mode": {
    "name": "ipython",
    "version": 3
   },
   "file_extension": ".py",
   "mimetype": "text/x-python",
   "name": "python",
   "nbconvert_exporter": "python",
   "pygments_lexer": "ipython3",
   "version": "3.7.4"
  }
 },
 "nbformat": 4,
 "nbformat_minor": 2
}
